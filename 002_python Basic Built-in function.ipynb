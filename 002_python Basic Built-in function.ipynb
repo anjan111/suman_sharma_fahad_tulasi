{
 "cells": [
  {
   "cell_type": "code",
   "execution_count": 1,
   "metadata": {},
   "outputs": [
    {
     "name": "stdout",
     "output_type": "stream",
     "text": [
      "enter int : 789\n",
      "data with in var :  789\n",
      "memory loc of var:  85481352\n",
      "<type 'str'>\n"
     ]
    }
   ],
   "source": [
    "# Function \n",
    "'''\n",
    "===>> Collection of statements to do any one specific task\n",
    "'''\n",
    "# types of function\n",
    "'''\n",
    "1. ==>> User defined Function\n",
    "'''\n",
    "# the functions which are implimented by programmer \n",
    "'''\n",
    "2. built - in functions / pre defined functions\n",
    "'''\n",
    "# Which are already defined in side python ide\n",
    "'''\n",
    "1. input functions\n",
    "    ==>> To read the daata from keyboard\n",
    "    1. raw_input()\n",
    "    2. input()\n",
    "\n",
    "2. output functions\n",
    "    ==>> To display the data on monitor\n",
    "    \n",
    "    print keyword will used for as an out put function\n",
    "    \n",
    "3. type & id functions\n",
    "    \n",
    "    type() ==>> to know the datatype\n",
    "    id ()  ==>> to know memory loc\n",
    "\n",
    "4. data type conversion functions\n",
    "5. Number system conversion functions\n",
    "'''\n",
    "# wap read int using raw_input and input and dispay the data\n",
    "#  and display memeory loc and datatype\n",
    "\n",
    "#int --->>>> all real numbers \n",
    "var = raw_input(\"enter int : \")\n",
    "print \"data with in var : \",var\n",
    "print \"memory loc of var: \",id(var)\n",
    "print type(var)"
   ]
  },
  {
   "cell_type": "code",
   "execution_count": 3,
   "metadata": {},
   "outputs": [
    {
     "name": "stdout",
     "output_type": "stream",
     "text": [
      "enter int : 789\n",
      "data with in var :  789\n",
      "memory loc of var:  78467032\n",
      "<type 'int'>\n"
     ]
    }
   ],
   "source": [
    "var = input(\"enter int : \")\n",
    "print \"data with in var : \",var\n",
    "print \"memory loc of var: \",id(var)\n",
    "print type(var)"
   ]
  },
  {
   "cell_type": "code",
   "execution_count": 4,
   "metadata": {},
   "outputs": [
    {
     "name": "stdout",
     "output_type": "stream",
     "text": [
      "enter float : 78.654555\n",
      "data with in var :  78.654555\n",
      "memory loc of var:  85601664\n",
      "<type 'str'>\n"
     ]
    }
   ],
   "source": [
    "var = raw_input(\"enter float : \")\n",
    "print \"data with in var : \",var\n",
    "print \"memory loc of var: \",id(var)\n",
    "print type(var)"
   ]
  },
  {
   "cell_type": "code",
   "execution_count": 5,
   "metadata": {},
   "outputs": [
    {
     "name": "stdout",
     "output_type": "stream",
     "text": [
      "enter complex : 78+56j\n",
      "data with in var :  78+56j\n",
      "memory loc of var:  79289040\n",
      "<type 'str'>\n"
     ]
    }
   ],
   "source": [
    "var = raw_input(\"enter complex : \")\n",
    "print \"data with in var : \",var\n",
    "print \"memory loc of var: \",id(var)\n",
    "print type(var)"
   ]
  },
  {
   "cell_type": "code",
   "execution_count": 6,
   "metadata": {},
   "outputs": [
    {
     "name": "stdout",
     "output_type": "stream",
     "text": [
      "enter bool : True\n",
      "data with in var :  True\n",
      "memory loc of var:  79290160\n",
      "<type 'str'>\n"
     ]
    }
   ],
   "source": [
    "var = raw_input(\"enter bool : \")\n",
    "print \"data with in var : \",var\n",
    "print \"memory loc of var: \",id(var)\n",
    "print type(var)"
   ]
  },
  {
   "cell_type": "code",
   "execution_count": 7,
   "metadata": {},
   "outputs": [
    {
     "name": "stdout",
     "output_type": "stream",
     "text": [
      "enter Bool : False\n",
      "data with in var :  False\n",
      "memory loc of var:  79288800\n",
      "<type 'str'>\n"
     ]
    }
   ],
   "source": [
    "var = raw_input(\"enter Bool : \")\n",
    "print \"data with in var : \",var\n",
    "print \"memory loc of var: \",id(var)\n",
    "print type(var)"
   ]
  },
  {
   "cell_type": "code",
   "execution_count": 8,
   "metadata": {},
   "outputs": [
    {
     "name": "stdout",
     "output_type": "stream",
     "text": [
      "enter None : None\n",
      "data with in var :  None\n",
      "memory loc of var:  85482672\n",
      "<type 'str'>\n"
     ]
    }
   ],
   "source": [
    "var = raw_input(\"enter None : \")\n",
    "print \"data with in var : \",var\n",
    "print \"memory loc of var: \",id(var)\n",
    "print type(var)"
   ]
  },
  {
   "cell_type": "code",
   "execution_count": 10,
   "metadata": {},
   "outputs": [
    {
     "name": "stdout",
     "output_type": "stream",
     "text": [
      "enter str : \"soc\"\n",
      "data with in var :  \"soc\"\n",
      "memory loc of var:  85482112\n",
      "<type 'str'>\n"
     ]
    }
   ],
   "source": [
    "var = raw_input(\"enter str : \")\n",
    "print \"data with in var : \",var\n",
    "print \"memory loc of var: \",id(var)\n",
    "print type(var)"
   ]
  },
  {
   "cell_type": "code",
   "execution_count": 11,
   "metadata": {},
   "outputs": [
    {
     "name": "stdout",
     "output_type": "stream",
     "text": [
      "enter list : [1,2,3]\n",
      "data with in var :  [1,2,3]\n",
      "memory loc of var:  79290200\n",
      "<type 'str'>\n"
     ]
    }
   ],
   "source": [
    "var = raw_input(\"enter list : \")\n",
    "print \"data with in var : \",var\n",
    "print \"memory loc of var: \",id(var)\n",
    "print type(var)"
   ]
  },
  {
   "cell_type": "code",
   "execution_count": 12,
   "metadata": {},
   "outputs": [
    {
     "name": "stdout",
     "output_type": "stream",
     "text": [
      "enter tuple : (1,2,3)\n",
      "data with in var :  (1,2,3)\n",
      "memory loc of var:  85482072\n",
      "<type 'str'>\n"
     ]
    }
   ],
   "source": [
    "var = raw_input(\"enter tuple : \")\n",
    "print \"data with in var : \",var\n",
    "print \"memory loc of var: \",id(var)\n",
    "print type(var)"
   ]
  },
  {
   "cell_type": "code",
   "execution_count": 13,
   "metadata": {},
   "outputs": [
    {
     "name": "stdout",
     "output_type": "stream",
     "text": [
      "enter set : {1,2,4}\n",
      "data with in var :  {1,2,4}\n",
      "memory loc of var:  79289800\n",
      "<type 'str'>\n"
     ]
    }
   ],
   "source": [
    "var = raw_input(\"enter set : \")\n",
    "print \"data with in var : \",var\n",
    "print \"memory loc of var: \",id(var)\n",
    "print type(var)"
   ]
  },
  {
   "cell_type": "code",
   "execution_count": 14,
   "metadata": {},
   "outputs": [
    {
     "name": "stdout",
     "output_type": "stream",
     "text": [
      "enter dict : {12: \"doc\" , 90: \"ere\"}\n",
      "data with in var :  {12: \"doc\" , 90: \"ere\"}\n",
      "memory loc of var:  85543600\n",
      "<type 'str'>\n"
     ]
    }
   ],
   "source": [
    "var = raw_input(\"enter dict : \")\n",
    "print \"data with in var : \",var\n",
    "print \"memory loc of var: \",id(var)\n",
    "print type(var)"
   ]
  },
  {
   "cell_type": "code",
   "execution_count": 15,
   "metadata": {},
   "outputs": [
    {
     "name": "stdout",
     "output_type": "stream",
     "text": [
      "enter a : 78\n",
      "enter b : 22\n",
      "7822\n"
     ]
    }
   ],
   "source": [
    "# addition of two number using raw_input\n",
    "a = raw_input(\"enter a : \")\n",
    "b = raw_input(\"enter b : \")\n",
    "print a+b"
   ]
  },
  {
   "cell_type": "code",
   "execution_count": 17,
   "metadata": {},
   "outputs": [
    {
     "name": "stdout",
     "output_type": "stream",
     "text": [
      "enter int : 789\n",
      "data with in var :  789\n",
      "memory loc of var:  79289120\n",
      "<type 'str'>\n",
      "data with in var :  789\n",
      "memory loc of var:  78466864\n",
      "<type 'int'>\n"
     ]
    }
   ],
   "source": [
    "# datatype conversion functions\n",
    "'''\n",
    "===>> we can convert one datatype another datatype\n",
    "int()\n",
    "float()\n",
    "complex()\n",
    "bool()\n",
    "str()\n",
    "list()\n",
    "tuple()\n",
    "set()\n",
    "dict()\n",
    "'''\n",
    "# wap read int by raw_input and convert to int from str int\n",
    "\n",
    "var = raw_input(\"enter int : \")\n",
    "print \"data with in var : \",var\n",
    "print \"memory loc of var: \",id(var)\n",
    "print type(var)\n",
    "var = int(var)\n",
    "print \"data with in var : \",var\n",
    "print \"memory loc of var: \",id(var)\n",
    "print type(var)"
   ]
  },
  {
   "cell_type": "code",
   "execution_count": 18,
   "metadata": {},
   "outputs": [
    {
     "name": "stdout",
     "output_type": "stream",
     "text": [
      "enter float : 78.89445\n",
      "data with in var :  78.89445\n",
      "memory loc of var:  85601712\n",
      "<type 'str'>\n",
      "data with in var :  78.89445\n",
      "memory loc of var:  78463144\n",
      "<type 'float'>\n"
     ]
    }
   ],
   "source": [
    "# wap read float by raw_input and convert to float from str float\n",
    "\n",
    "var = raw_input(\"enter float : \")\n",
    "print \"data with in var : \",var\n",
    "print \"memory loc of var: \",id(var)\n",
    "print type(var)\n",
    "var = float(var)\n",
    "print \"data with in var : \",var\n",
    "print \"memory loc of var: \",id(var)\n",
    "print type(var)"
   ]
  },
  {
   "cell_type": "code",
   "execution_count": null,
   "metadata": {},
   "outputs": [],
   "source": [
    "# write 9 programs for each time use new datatype function"
   ]
  },
  {
   "cell_type": "code",
   "execution_count": 19,
   "metadata": {},
   "outputs": [
    {
     "name": "stdout",
     "output_type": "stream",
     "text": [
      "enter int : 789\n",
      "data with in var :  789\n",
      "memory loc of var:  78466888\n",
      "<type 'int'>\n"
     ]
    }
   ],
   "source": [
    "# wap read int by input \n",
    "var = input(\"enter int : \")\n",
    "print \"data with in var : \",var\n",
    "print \"memory loc of var: \",id(var)\n",
    "print type(var)\n"
   ]
  },
  {
   "cell_type": "code",
   "execution_count": 20,
   "metadata": {},
   "outputs": [
    {
     "name": "stdout",
     "output_type": "stream",
     "text": [
      "enter int : 78.544\n",
      "data with in var :  78.544\n",
      "memory loc of var:  78463144\n",
      "<type 'float'>\n"
     ]
    }
   ],
   "source": [
    "# wap read float by input \n",
    "var = input(\"enter float : \")\n",
    "print \"data with in var : \",var\n",
    "print \"memory loc of var: \",id(var)\n",
    "print type(var)\n"
   ]
  },
  {
   "cell_type": "code",
   "execution_count": 21,
   "metadata": {},
   "outputs": [
    {
     "name": "stdout",
     "output_type": "stream",
     "text": [
      "enter complex : 7+3j\n",
      "data with in var :  (7+3j)\n",
      "memory loc of var:  79357360\n",
      "<type 'complex'>\n"
     ]
    }
   ],
   "source": [
    "# wap read complex by input \n",
    "var = input(\"enter complex : \")\n",
    "print \"data with in var : \",var\n",
    "print \"memory loc of var: \",id(var)\n",
    "print type(var)\n"
   ]
  },
  {
   "cell_type": "code",
   "execution_count": 22,
   "metadata": {},
   "outputs": [
    {
     "name": "stdout",
     "output_type": "stream",
     "text": [
      "enter True : True\n",
      "data with in var :  True\n",
      "memory loc of var:  1774370536\n",
      "<type 'bool'>\n"
     ]
    }
   ],
   "source": [
    "# wap read int by input \n",
    "var = input(\"enter True : \")\n",
    "print \"data with in var : \",var\n",
    "print \"memory loc of var: \",id(var)\n",
    "print type(var)\n"
   ]
  },
  {
   "cell_type": "code",
   "execution_count": 23,
   "metadata": {},
   "outputs": [
    {
     "name": "stdout",
     "output_type": "stream",
     "text": [
      "enter False : False\n",
      "data with in var :  False\n",
      "memory loc of var:  1774370120\n",
      "<type 'bool'>\n"
     ]
    }
   ],
   "source": [
    "# wap read int by input \n",
    "var = input(\"enter False : \")\n",
    "print \"data with in var : \",var\n",
    "print \"memory loc of var: \",id(var)\n",
    "print type(var)\n"
   ]
  },
  {
   "cell_type": "code",
   "execution_count": 24,
   "metadata": {},
   "outputs": [
    {
     "name": "stdout",
     "output_type": "stream",
     "text": [
      "enter None: None\n",
      "data with in var :  None\n",
      "memory loc of var:  1774324856\n",
      "<type 'NoneType'>\n"
     ]
    }
   ],
   "source": [
    "# wap read int by input \n",
    "var = input(\"enter None: \")\n",
    "print \"data with in var : \",var\n",
    "print \"memory loc of var: \",id(var)\n",
    "print type(var)\n"
   ]
  },
  {
   "cell_type": "code",
   "execution_count": 25,
   "metadata": {},
   "outputs": [
    {
     "name": "stdout",
     "output_type": "stream",
     "text": [
      "enter str : \"soc\"\n",
      "data with in var :  soc\n",
      "memory loc of var:  85481232\n",
      "<type 'str'>\n"
     ]
    }
   ],
   "source": [
    "# wap read int by input \n",
    "var = input(\"enter str : \")\n",
    "print \"data with in var : \",var\n",
    "print \"memory loc of var: \",id(var)\n",
    "print type(var)\n"
   ]
  },
  {
   "cell_type": "code",
   "execution_count": 26,
   "metadata": {},
   "outputs": [
    {
     "name": "stdout",
     "output_type": "stream",
     "text": [
      "enter list : [1,2,3]\n",
      "data with in var :  [1, 2, 3]\n",
      "memory loc of var:  86099848\n",
      "<type 'list'>\n"
     ]
    }
   ],
   "source": [
    "# wap read int by input \n",
    "var = input(\"enter list : \")\n",
    "print \"data with in var : \",var\n",
    "print \"memory loc of var: \",id(var)\n",
    "print type(var)\n"
   ]
  },
  {
   "cell_type": "code",
   "execution_count": 27,
   "metadata": {},
   "outputs": [
    {
     "name": "stdout",
     "output_type": "stream",
     "text": [
      "enter tuple : (1,2,4)\n",
      "data with in var :  (1, 2, 4)\n",
      "memory loc of var:  85987616\n",
      "<type 'tuple'>\n"
     ]
    }
   ],
   "source": [
    "# wap read int by input \n",
    "var = input(\"enter tuple : \")\n",
    "print \"data with in var : \",var\n",
    "print \"memory loc of var: \",id(var)\n",
    "print type(var)\n"
   ]
  },
  {
   "cell_type": "code",
   "execution_count": 28,
   "metadata": {},
   "outputs": [
    {
     "name": "stdout",
     "output_type": "stream",
     "text": [
      "enter set : {12,90,34}\n",
      "data with in var :  set([90, 12, 34])\n",
      "memory loc of var:  76033832\n",
      "<type 'set'>\n"
     ]
    }
   ],
   "source": [
    "# wap read int by input \n",
    "var = input(\"enter set : \")\n",
    "print \"data with in var : \",var\n",
    "print \"memory loc of var: \",id(var)\n",
    "print type(var)\n"
   ]
  },
  {
   "cell_type": "code",
   "execution_count": 29,
   "metadata": {},
   "outputs": [
    {
     "name": "stdout",
     "output_type": "stream",
     "text": [
      "enter dict : {12 : \"soc\" , 90: \"ssd\"}\n",
      "data with in var :  {90: 'ssd', 12: 'soc'}\n",
      "memory loc of var:  86126936\n",
      "<type 'dict'>\n"
     ]
    }
   ],
   "source": [
    "# wap read int by input \n",
    "var = input(\"enter dict : \")\n",
    "print \"data with in var : \",var\n",
    "print \"memory loc of var: \",id(var)\n",
    "print type(var)\n"
   ]
  },
  {
   "cell_type": "code",
   "execution_count": null,
   "metadata": {},
   "outputs": [],
   "source": []
  }
 ],
 "metadata": {
  "kernelspec": {
   "display_name": "Python 2",
   "language": "python",
   "name": "python2"
  },
  "language_info": {
   "codemirror_mode": {
    "name": "ipython",
    "version": 2
   },
   "file_extension": ".py",
   "mimetype": "text/x-python",
   "name": "python",
   "nbconvert_exporter": "python",
   "pygments_lexer": "ipython2",
   "version": "2.7.16"
  }
 },
 "nbformat": 4,
 "nbformat_minor": 2
}
