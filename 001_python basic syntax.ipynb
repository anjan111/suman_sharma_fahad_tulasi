{
 "cells": [
  {
   "cell_type": "markdown",
   "metadata": {},
   "source": [
    "##### ===>>> Identifiers \n",
    "\n",
    "---> Which are user / programmer defined words \n",
    "\n",
    "---> To give the name entities for variable , functions and classes \n",
    "\n",
    "##### Rules\n",
    "\n",
    "===>>> we can  use alphabet     a - z  /  A - Z\n",
    "\n",
    "===>>> we can use digits        0 - 9\n",
    "\n",
    "===>>> we can use underscore    _\n",
    "\n",
    "===>>> don't start with digits\n",
    "\n",
    "===>>> don't use keywords\n",
    "\n",
    "===>>> don't use special characters  , . ':;\"{]!@#$%^"
   ]
  },
  {
   "cell_type": "code",
   "execution_count": 1,
   "metadata": {},
   "outputs": [
    {
     "name": "stdout",
     "output_type": "stream",
     "text": [
      "123\n"
     ]
    }
   ],
   "source": [
    "# variable \n",
    "'''\n",
    "==>> variables are used for to store the data with in memory loc\n",
    "\n",
    "syntax :-\n",
    "\n",
    "identifier  =  data\n",
    "'''\n",
    "Va_2  = 123\n",
    "print Va_2"
   ]
  },
  {
   "cell_type": "code",
   "execution_count": 3,
   "metadata": {},
   "outputs": [
    {
     "ename": "SyntaxError",
     "evalue": "invalid syntax (<ipython-input-3-62683a5eb920>, line 1)",
     "output_type": "error",
     "traceback": [
      "\u001b[1;36m  File \u001b[1;32m\"<ipython-input-3-62683a5eb920>\"\u001b[1;36m, line \u001b[1;32m1\u001b[0m\n\u001b[1;33m    5var  =122\u001b[0m\n\u001b[1;37m       ^\u001b[0m\n\u001b[1;31mSyntaxError\u001b[0m\u001b[1;31m:\u001b[0m invalid syntax\n"
     ]
    }
   ],
   "source": [
    "5var  =122\n",
    "print 5var"
   ]
  },
  {
   "cell_type": "code",
   "execution_count": 4,
   "metadata": {},
   "outputs": [
    {
     "ename": "SyntaxError",
     "evalue": "invalid syntax (<ipython-input-4-1f440ea3afd4>, line 1)",
     "output_type": "error",
     "traceback": [
      "\u001b[1;36m  File \u001b[1;32m\"<ipython-input-4-1f440ea3afd4>\"\u001b[1;36m, line \u001b[1;32m1\u001b[0m\n\u001b[1;33m    while = 123\u001b[0m\n\u001b[1;37m          ^\u001b[0m\n\u001b[1;31mSyntaxError\u001b[0m\u001b[1;31m:\u001b[0m invalid syntax\n"
     ]
    }
   ],
   "source": [
    "while = 123\n",
    "print while"
   ]
  },
  {
   "cell_type": "code",
   "execution_count": 6,
   "metadata": {},
   "outputs": [
    {
     "ename": "SyntaxError",
     "evalue": "invalid syntax (<ipython-input-6-74bc9a5eff82>, line 1)",
     "output_type": "error",
     "traceback": [
      "\u001b[1;36m  File \u001b[1;32m\"<ipython-input-6-74bc9a5eff82>\"\u001b[1;36m, line \u001b[1;32m1\u001b[0m\n\u001b[1;33m    wh@l  =123\u001b[0m\n\u001b[1;37m      ^\u001b[0m\n\u001b[1;31mSyntaxError\u001b[0m\u001b[1;31m:\u001b[0m invalid syntax\n"
     ]
    }
   ],
   "source": [
    "wh@l  =123\n",
    "print wh@l"
   ]
  },
  {
   "cell_type": "code",
   "execution_count": 9,
   "metadata": {},
   "outputs": [
    {
     "name": "stdout",
     "output_type": "stream",
     "text": [
      "True\n",
      "False\n"
     ]
    }
   ],
   "source": [
    "import keyword\n",
    "print keyword.iskeyword('while')\n",
    "print keyword.iskeyword('whi#')"
   ]
  },
  {
   "cell_type": "code",
   "execution_count": 10,
   "metadata": {},
   "outputs": [
    {
     "name": "stdout",
     "output_type": "stream",
     "text": [
      "123\n",
      "<type 'int'>\n"
     ]
    }
   ],
   "source": [
    "# Datatypes \n",
    "# type() --->>> to know the datatype\n",
    "'''\n",
    "===>> to specify what type of data holded by variable\n",
    "\n",
    "'''\n",
    "# types \n",
    "'''\n",
    "1. fundametal datatype\n",
    "\n",
    "===>>> A single data can holded by single varaible\n",
    "\n",
    "        1. int \n",
    "        2. float\n",
    "        3. complex\n",
    "        4. bool\n",
    "        5. Nonetype\n",
    "\n",
    "2. sequencial Datatype\n",
    "\n",
    "===>>> a single variable can hold multiple data elements\n",
    "\n",
    "    1. str  \"\"\n",
    "    2. list []\n",
    "    3. tuple ()\n",
    "    4. set  {ele1 , ele2}\n",
    "    5. dict {item1, item2}\n",
    "    \n",
    "\n",
    "\n",
    "'''\n",
    "var = 123\n",
    "print var\n",
    "print type(var)"
   ]
  },
  {
   "cell_type": "code",
   "execution_count": 11,
   "metadata": {},
   "outputs": [
    {
     "name": "stdout",
     "output_type": "stream",
     "text": [
      "12.8575743\n",
      "<type 'float'>\n"
     ]
    }
   ],
   "source": [
    "var = 12.8575743\n",
    "print var\n",
    "print type(var)"
   ]
  },
  {
   "cell_type": "code",
   "execution_count": 12,
   "metadata": {},
   "outputs": [
    {
     "name": "stdout",
     "output_type": "stream",
     "text": [
      "(12+34j)\n",
      "<type 'complex'>\n"
     ]
    }
   ],
   "source": [
    "# complex    x + yj  ( x ---> real ,  y ---> imaginary)\n",
    "var = 12 +34j\n",
    "print var\n",
    "print type(var)"
   ]
  },
  {
   "cell_type": "code",
   "execution_count": 14,
   "metadata": {},
   "outputs": [
    {
     "name": "stdout",
     "output_type": "stream",
     "text": [
      "True\n",
      "<type 'bool'>\n",
      "False\n",
      "<type 'bool'>\n"
     ]
    }
   ],
   "source": [
    "var = True  \n",
    "print var\n",
    "print type(var)\n",
    "var = False\n",
    "print var\n",
    "print type(var)"
   ]
  },
  {
   "cell_type": "code",
   "execution_count": 15,
   "metadata": {},
   "outputs": [
    {
     "name": "stdout",
     "output_type": "stream",
     "text": [
      "None\n",
      "<type 'NoneType'>\n"
     ]
    }
   ],
   "source": [
    "var = None\n",
    "print var\n",
    "print type(var)"
   ]
  },
  {
   "cell_type": "code",
   "execution_count": 16,
   "metadata": {},
   "outputs": [
    {
     "name": "stdout",
     "output_type": "stream",
     "text": [
      "python programming\n",
      "<type 'str'>\n"
     ]
    }
   ],
   "source": [
    "var = \"python programming\"\n",
    "print var\n",
    "print type(var)"
   ]
  },
  {
   "cell_type": "code",
   "execution_count": 17,
   "metadata": {},
   "outputs": [
    {
     "name": "stdout",
     "output_type": "stream",
     "text": [
      "[12, 3.3, (4+3j), True, None, 'soc']\n",
      "<type 'list'>\n"
     ]
    }
   ],
   "source": [
    "var = [12, 3.3 , 4+3j , True,None, \"soc\"]\n",
    "print var\n",
    "print type(var)"
   ]
  },
  {
   "cell_type": "code",
   "execution_count": 18,
   "metadata": {},
   "outputs": [
    {
     "name": "stdout",
     "output_type": "stream",
     "text": [
      "(12, 3.3, (4+3j), True, None, 'soc')\n",
      "<type 'tuple'>\n"
     ]
    }
   ],
   "source": [
    "var = (12, 3.3 , 4+3j , True,None, \"soc\")\n",
    "print var\n",
    "print type(var)"
   ]
  },
  {
   "cell_type": "code",
   "execution_count": 20,
   "metadata": {},
   "outputs": [
    {
     "name": "stdout",
     "output_type": "stream",
     "text": [
      "set([True, 'soc', None, 12, (4+3j), 3.3])\n",
      "<type 'set'>\n"
     ]
    }
   ],
   "source": [
    "var = {12, 3.3 , 4+3j , True,None, \"soc\"}\n",
    "print var\n",
    "print type(var)"
   ]
  },
  {
   "cell_type": "code",
   "execution_count": 21,
   "metadata": {},
   "outputs": [
    {
     "name": "stdout",
     "output_type": "stream",
     "text": [
      "{True: set([1, 2, 3]), 'soc': 's', None: {12: 45}, 12: '12', (4+3j): (1, 3), 3.3: [1, 2, 3]}\n",
      "<type 'dict'>\n"
     ]
    }
   ],
   "source": [
    "var = {12 : \"12\", 3.3  : [1,2,3] , 4+3j : (1,3) , True : {1,2,3},None :{12:45}, \"soc\" : \"s\"}\n",
    "print var\n",
    "print type(var)"
   ]
  },
  {
   "cell_type": "code",
   "execution_count": null,
   "metadata": {},
   "outputs": [],
   "source": []
  },
  {
   "cell_type": "code",
   "execution_count": null,
   "metadata": {},
   "outputs": [],
   "source": []
  }
 ],
 "metadata": {
  "kernelspec": {
   "display_name": "Python 2",
   "language": "python",
   "name": "python2"
  },
  "language_info": {
   "codemirror_mode": {
    "name": "ipython",
    "version": 2
   },
   "file_extension": ".py",
   "mimetype": "text/x-python",
   "name": "python",
   "nbconvert_exporter": "python",
   "pygments_lexer": "ipython2",
   "version": "2.7.16"
  }
 },
 "nbformat": 4,
 "nbformat_minor": 2
}
